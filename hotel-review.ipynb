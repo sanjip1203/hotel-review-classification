{
 "cells": [
  {
   "cell_type": "code",
   "execution_count": 1,
   "id": "cc53a20e",
   "metadata": {
    "execution": {
     "iopub.execute_input": "2025-08-04T12:50:53.011346Z",
     "iopub.status.busy": "2025-08-04T12:50:53.010984Z",
     "iopub.status.idle": "2025-08-04T12:51:15.656416Z",
     "shell.execute_reply": "2025-08-04T12:51:15.655488Z"
    },
    "papermill": {
     "duration": 22.652169,
     "end_time": "2025-08-04T12:51:15.658162",
     "exception": false,
     "start_time": "2025-08-04T12:50:53.005993",
     "status": "completed"
    },
    "tags": []
   },
   "outputs": [
    {
     "name": "stderr",
     "output_type": "stream",
     "text": [
      "2025-08-04 12:50:59.804448: E external/local_xla/xla/stream_executor/cuda/cuda_fft.cc:477] Unable to register cuFFT factory: Attempting to register factory for plugin cuFFT when one has already been registered\n",
      "WARNING: All log messages before absl::InitializeLog() is called are written to STDERR\n",
      "E0000 00:00:1754311860.069031      13 cuda_dnn.cc:8310] Unable to register cuDNN factory: Attempting to register factory for plugin cuDNN when one has already been registered\n",
      "E0000 00:00:1754311860.149693      13 cuda_blas.cc:1418] Unable to register cuBLAS factory: Attempting to register factory for plugin cuBLAS when one has already been registered\n"
     ]
    }
   ],
   "source": [
    "import pandas as pd\n",
    "import numpy as np\n",
    "import re\n",
    "import string\n",
    "import nltk\n",
    "from nltk.corpus import stopwords\n",
    "from tensorflow.keras.preprocessing.text import Tokenizer\n",
    "from tensorflow.keras.preprocessing.sequence import pad_sequences\n",
    "from tensorflow.keras.models import Sequential\n",
    "from tensorflow.keras.layers import Embedding, LSTM, Dense, Dropout\n",
    "from sklearn.model_selection import train_test_split\n",
    "from sklearn.metrics import classification_report, accuracy_score"
   ]
  },
  {
   "cell_type": "code",
   "execution_count": 2,
   "id": "9e5dc344",
   "metadata": {
    "execution": {
     "iopub.execute_input": "2025-08-04T12:51:15.667382Z",
     "iopub.status.busy": "2025-08-04T12:51:15.666127Z",
     "iopub.status.idle": "2025-08-04T12:51:15.735278Z",
     "shell.execute_reply": "2025-08-04T12:51:15.734125Z"
    },
    "papermill": {
     "duration": 0.075079,
     "end_time": "2025-08-04T12:51:15.737112",
     "exception": false,
     "start_time": "2025-08-04T12:51:15.662033",
     "status": "completed"
    },
    "tags": []
   },
   "outputs": [
    {
     "name": "stderr",
     "output_type": "stream",
     "text": [
      "[nltk_data] Downloading package stopwords to /usr/share/nltk_data...\n",
      "[nltk_data]   Package stopwords is already up-to-date!\n"
     ]
    }
   ],
   "source": [
    "nltk.download('stopwords')\n",
    "stop_words = set(stopwords.words('english'))"
   ]
  },
  {
   "cell_type": "code",
   "execution_count": 3,
   "id": "4bb79980",
   "metadata": {
    "execution": {
     "iopub.execute_input": "2025-08-04T12:51:15.745361Z",
     "iopub.status.busy": "2025-08-04T12:51:15.744988Z",
     "iopub.status.idle": "2025-08-04T12:51:22.933370Z",
     "shell.execute_reply": "2025-08-04T12:51:22.932011Z"
    },
    "papermill": {
     "duration": 7.194475,
     "end_time": "2025-08-04T12:51:22.935123",
     "exception": false,
     "start_time": "2025-08-04T12:51:15.740648",
     "status": "completed"
    },
    "tags": []
   },
   "outputs": [
    {
     "data": {
      "text/html": [
       "<div>\n",
       "<style scoped>\n",
       "    .dataframe tbody tr th:only-of-type {\n",
       "        vertical-align: middle;\n",
       "    }\n",
       "\n",
       "    .dataframe tbody tr th {\n",
       "        vertical-align: top;\n",
       "    }\n",
       "\n",
       "    .dataframe thead th {\n",
       "        text-align: right;\n",
       "    }\n",
       "</style>\n",
       "<table border=\"1\" class=\"dataframe\">\n",
       "  <thead>\n",
       "    <tr style=\"text-align: right;\">\n",
       "      <th></th>\n",
       "      <th>Negative_Review</th>\n",
       "      <th>Positive_Review</th>\n",
       "    </tr>\n",
       "  </thead>\n",
       "  <tbody>\n",
       "    <tr>\n",
       "      <th>0</th>\n",
       "      <td>I am so angry that i made this post available...</td>\n",
       "      <td>Only the park outside of the hotel was beauti...</td>\n",
       "    </tr>\n",
       "    <tr>\n",
       "      <th>1</th>\n",
       "      <td>No Negative</td>\n",
       "      <td>No real complaints the hotel was great great ...</td>\n",
       "    </tr>\n",
       "    <tr>\n",
       "      <th>2</th>\n",
       "      <td>Rooms are nice but for elderly a bit difficul...</td>\n",
       "      <td>Location was good and staff were ok It is cut...</td>\n",
       "    </tr>\n",
       "    <tr>\n",
       "      <th>3</th>\n",
       "      <td>My room was dirty and I was afraid to walk ba...</td>\n",
       "      <td>Great location in nice surroundings the bar a...</td>\n",
       "    </tr>\n",
       "    <tr>\n",
       "      <th>4</th>\n",
       "      <td>You When I booked with your company on line y...</td>\n",
       "      <td>Amazing location and building Romantic setting</td>\n",
       "    </tr>\n",
       "  </tbody>\n",
       "</table>\n",
       "</div>"
      ],
      "text/plain": [
       "                                     Negative_Review  \\\n",
       "0   I am so angry that i made this post available...   \n",
       "1                                        No Negative   \n",
       "2   Rooms are nice but for elderly a bit difficul...   \n",
       "3   My room was dirty and I was afraid to walk ba...   \n",
       "4   You When I booked with your company on line y...   \n",
       "\n",
       "                                     Positive_Review  \n",
       "0   Only the park outside of the hotel was beauti...  \n",
       "1   No real complaints the hotel was great great ...  \n",
       "2   Location was good and staff were ok It is cut...  \n",
       "3   Great location in nice surroundings the bar a...  \n",
       "4    Amazing location and building Romantic setting   "
      ]
     },
     "execution_count": 3,
     "metadata": {},
     "output_type": "execute_result"
    }
   ],
   "source": [
    "# Load data\n",
    "df = pd.read_csv(\"/kaggle/input/515k-hotel-reviews-data-in-europe/Hotel_Reviews.csv\")\n",
    "df = df[['Negative_Review','Positive_Review']]\n",
    "df.head()"
   ]
  },
  {
   "cell_type": "code",
   "execution_count": 4,
   "id": "94ce0ba7",
   "metadata": {
    "execution": {
     "iopub.execute_input": "2025-08-04T12:51:22.944005Z",
     "iopub.status.busy": "2025-08-04T12:51:22.943651Z",
     "iopub.status.idle": "2025-08-04T12:51:22.971794Z",
     "shell.execute_reply": "2025-08-04T12:51:22.971013Z"
    },
    "papermill": {
     "duration": 0.034531,
     "end_time": "2025-08-04T12:51:22.973486",
     "exception": false,
     "start_time": "2025-08-04T12:51:22.938955",
     "status": "completed"
    },
    "tags": []
   },
   "outputs": [],
   "source": [
    "# Combine positive and negative into single dataset\n",
    "pos = df[['Positive_Review']].copy()\n",
    "pos['label'] = 1\n",
    "pos.rename(columns={'Positive_Review': 'review'}, inplace=True)\n"
   ]
  },
  {
   "cell_type": "code",
   "execution_count": 5,
   "id": "9a4a673e",
   "metadata": {
    "execution": {
     "iopub.execute_input": "2025-08-04T12:51:22.981903Z",
     "iopub.status.busy": "2025-08-04T12:51:22.981602Z",
     "iopub.status.idle": "2025-08-04T12:51:23.006893Z",
     "shell.execute_reply": "2025-08-04T12:51:23.005957Z"
    },
    "papermill": {
     "duration": 0.031948,
     "end_time": "2025-08-04T12:51:23.008901",
     "exception": false,
     "start_time": "2025-08-04T12:51:22.976953",
     "status": "completed"
    },
    "tags": []
   },
   "outputs": [],
   "source": [
    "neg = df[['Negative_Review']].copy()\n",
    "neg['label'] = 0\n",
    "neg.rename(columns={'Negative_Review': 'review'}, inplace=True)\n"
   ]
  },
  {
   "cell_type": "code",
   "execution_count": 6,
   "id": "d6d39fd8",
   "metadata": {
    "execution": {
     "iopub.execute_input": "2025-08-04T12:51:23.017360Z",
     "iopub.status.busy": "2025-08-04T12:51:23.016997Z",
     "iopub.status.idle": "2025-08-04T12:51:23.624465Z",
     "shell.execute_reply": "2025-08-04T12:51:23.623269Z"
    },
    "papermill": {
     "duration": 0.614218,
     "end_time": "2025-08-04T12:51:23.626707",
     "exception": false,
     "start_time": "2025-08-04T12:51:23.012489",
     "status": "completed"
    },
    "tags": []
   },
   "outputs": [],
   "source": [
    "data = pd.concat([pos, neg])\n",
    "data = data[data['review'].str.lower() != 'no negative']  # Clean empty negative labels\n",
    "data.dropna(inplace=True)"
   ]
  },
  {
   "cell_type": "code",
   "execution_count": 7,
   "id": "38621380",
   "metadata": {
    "execution": {
     "iopub.execute_input": "2025-08-04T12:51:23.634626Z",
     "iopub.status.busy": "2025-08-04T12:51:23.634321Z",
     "iopub.status.idle": "2025-08-04T12:51:30.561026Z",
     "shell.execute_reply": "2025-08-04T12:51:30.560093Z"
    },
    "papermill": {
     "duration": 6.932546,
     "end_time": "2025-08-04T12:51:30.562716",
     "exception": false,
     "start_time": "2025-08-04T12:51:23.630170",
     "status": "completed"
    },
    "tags": []
   },
   "outputs": [],
   "source": [
    "# Clean text\n",
    "def clean_text(text):\n",
    "    text = text.lower()\n",
    "    text = re.sub(r\"http\\S+|www\\S+\", \"\", text)\n",
    "    text = re.sub(r\"[^a-zA-Z\\s]\", \"\", text)\n",
    "    tokens = text.split()\n",
    "    tokens = [t for t in tokens if t not in stop_words]\n",
    "    return \" \".join(tokens)\n",
    "\n",
    "data['cleaned'] = data['review'].apply(clean_text)"
   ]
  },
  {
   "cell_type": "code",
   "execution_count": 8,
   "id": "903b43b6",
   "metadata": {
    "execution": {
     "iopub.execute_input": "2025-08-04T12:51:30.571189Z",
     "iopub.status.busy": "2025-08-04T12:51:30.570850Z",
     "iopub.status.idle": "2025-08-04T12:51:55.606404Z",
     "shell.execute_reply": "2025-08-04T12:51:55.605399Z"
    },
    "papermill": {
     "duration": 25.04196,
     "end_time": "2025-08-04T12:51:55.608376",
     "exception": false,
     "start_time": "2025-08-04T12:51:30.566416",
     "status": "completed"
    },
    "tags": []
   },
   "outputs": [],
   "source": [
    "# Tokenize\n",
    "MAX_VOCAB = 10000\n",
    "MAX_LEN = 100\n",
    "\n",
    "tokenizer = Tokenizer(num_words=MAX_VOCAB, oov_token=\"<OOV>\")\n",
    "tokenizer.fit_on_texts(data['cleaned'])\n",
    "sequences = tokenizer.texts_to_sequences(data['cleaned'])\n",
    "padded = pad_sequences(sequences, maxlen=MAX_LEN, padding='post', truncating='post')"
   ]
  },
  {
   "cell_type": "code",
   "execution_count": 9,
   "id": "11539ead",
   "metadata": {
    "execution": {
     "iopub.execute_input": "2025-08-04T12:51:55.616247Z",
     "iopub.status.busy": "2025-08-04T12:51:55.615908Z",
     "iopub.status.idle": "2025-08-04T12:51:55.903372Z",
     "shell.execute_reply": "2025-08-04T12:51:55.902260Z"
    },
    "papermill": {
     "duration": 0.293313,
     "end_time": "2025-08-04T12:51:55.905160",
     "exception": false,
     "start_time": "2025-08-04T12:51:55.611847",
     "status": "completed"
    },
    "tags": []
   },
   "outputs": [],
   "source": [
    "# Prepare data\n",
    "X = padded\n",
    "y = data['label'].values\n",
    "\n",
    "X_train, X_test, y_train, y_test = train_test_split(X, y, test_size=0.2, random_state=42)"
   ]
  },
  {
   "cell_type": "code",
   "execution_count": 10,
   "id": "67366ec0",
   "metadata": {
    "execution": {
     "iopub.execute_input": "2025-08-04T12:51:55.913576Z",
     "iopub.status.busy": "2025-08-04T12:51:55.913211Z",
     "iopub.status.idle": "2025-08-04T12:51:56.097651Z",
     "shell.execute_reply": "2025-08-04T12:51:56.096596Z"
    },
    "papermill": {
     "duration": 0.190563,
     "end_time": "2025-08-04T12:51:56.099314",
     "exception": false,
     "start_time": "2025-08-04T12:51:55.908751",
     "status": "completed"
    },
    "tags": []
   },
   "outputs": [
    {
     "name": "stderr",
     "output_type": "stream",
     "text": [
      "/usr/local/lib/python3.11/dist-packages/keras/src/layers/core/embedding.py:90: UserWarning: Argument `input_length` is deprecated. Just remove it.\n",
      "  warnings.warn(\n",
      "2025-08-04 12:51:55.925880: E external/local_xla/xla/stream_executor/cuda/cuda_driver.cc:152] failed call to cuInit: INTERNAL: CUDA error: Failed call to cuInit: UNKNOWN ERROR (303)\n"
     ]
    },
    {
     "data": {
      "text/html": [
       "<pre style=\"white-space:pre;overflow-x:auto;line-height:normal;font-family:Menlo,'DejaVu Sans Mono',consolas,'Courier New',monospace\"><span style=\"font-weight: bold\">Model: \"sequential\"</span>\n",
       "</pre>\n"
      ],
      "text/plain": [
       "\u001b[1mModel: \"sequential\"\u001b[0m\n"
      ]
     },
     "metadata": {},
     "output_type": "display_data"
    },
    {
     "data": {
      "text/html": [
       "<pre style=\"white-space:pre;overflow-x:auto;line-height:normal;font-family:Menlo,'DejaVu Sans Mono',consolas,'Courier New',monospace\">┏━━━━━━━━━━━━━━━━━━━━━━━━━━━━━━━━━┳━━━━━━━━━━━━━━━━━━━━━━━━┳━━━━━━━━━━━━━━━┓\n",
       "┃<span style=\"font-weight: bold\"> Layer (type)                    </span>┃<span style=\"font-weight: bold\"> Output Shape           </span>┃<span style=\"font-weight: bold\">       Param # </span>┃\n",
       "┡━━━━━━━━━━━━━━━━━━━━━━━━━━━━━━━━━╇━━━━━━━━━━━━━━━━━━━━━━━━╇━━━━━━━━━━━━━━━┩\n",
       "│ embedding (<span style=\"color: #0087ff; text-decoration-color: #0087ff\">Embedding</span>)           │ (<span style=\"color: #00d7ff; text-decoration-color: #00d7ff\">None</span>, <span style=\"color: #00af00; text-decoration-color: #00af00\">100</span>, <span style=\"color: #00af00; text-decoration-color: #00af00\">128</span>)       │     <span style=\"color: #00af00; text-decoration-color: #00af00\">1,280,000</span> │\n",
       "├─────────────────────────────────┼────────────────────────┼───────────────┤\n",
       "│ lstm (<span style=\"color: #0087ff; text-decoration-color: #0087ff\">LSTM</span>)                     │ (<span style=\"color: #00d7ff; text-decoration-color: #00d7ff\">None</span>, <span style=\"color: #00af00; text-decoration-color: #00af00\">64</span>)             │        <span style=\"color: #00af00; text-decoration-color: #00af00\">49,408</span> │\n",
       "├─────────────────────────────────┼────────────────────────┼───────────────┤\n",
       "│ dropout (<span style=\"color: #0087ff; text-decoration-color: #0087ff\">Dropout</span>)               │ (<span style=\"color: #00d7ff; text-decoration-color: #00d7ff\">None</span>, <span style=\"color: #00af00; text-decoration-color: #00af00\">64</span>)             │             <span style=\"color: #00af00; text-decoration-color: #00af00\">0</span> │\n",
       "├─────────────────────────────────┼────────────────────────┼───────────────┤\n",
       "│ dense (<span style=\"color: #0087ff; text-decoration-color: #0087ff\">Dense</span>)                   │ (<span style=\"color: #00d7ff; text-decoration-color: #00d7ff\">None</span>, <span style=\"color: #00af00; text-decoration-color: #00af00\">64</span>)             │         <span style=\"color: #00af00; text-decoration-color: #00af00\">4,160</span> │\n",
       "├─────────────────────────────────┼────────────────────────┼───────────────┤\n",
       "│ dense_1 (<span style=\"color: #0087ff; text-decoration-color: #0087ff\">Dense</span>)                 │ (<span style=\"color: #00d7ff; text-decoration-color: #00d7ff\">None</span>, <span style=\"color: #00af00; text-decoration-color: #00af00\">1</span>)              │            <span style=\"color: #00af00; text-decoration-color: #00af00\">65</span> │\n",
       "└─────────────────────────────────┴────────────────────────┴───────────────┘\n",
       "</pre>\n"
      ],
      "text/plain": [
       "┏━━━━━━━━━━━━━━━━━━━━━━━━━━━━━━━━━┳━━━━━━━━━━━━━━━━━━━━━━━━┳━━━━━━━━━━━━━━━┓\n",
       "┃\u001b[1m \u001b[0m\u001b[1mLayer (type)                   \u001b[0m\u001b[1m \u001b[0m┃\u001b[1m \u001b[0m\u001b[1mOutput Shape          \u001b[0m\u001b[1m \u001b[0m┃\u001b[1m \u001b[0m\u001b[1m      Param #\u001b[0m\u001b[1m \u001b[0m┃\n",
       "┡━━━━━━━━━━━━━━━━━━━━━━━━━━━━━━━━━╇━━━━━━━━━━━━━━━━━━━━━━━━╇━━━━━━━━━━━━━━━┩\n",
       "│ embedding (\u001b[38;5;33mEmbedding\u001b[0m)           │ (\u001b[38;5;45mNone\u001b[0m, \u001b[38;5;34m100\u001b[0m, \u001b[38;5;34m128\u001b[0m)       │     \u001b[38;5;34m1,280,000\u001b[0m │\n",
       "├─────────────────────────────────┼────────────────────────┼───────────────┤\n",
       "│ lstm (\u001b[38;5;33mLSTM\u001b[0m)                     │ (\u001b[38;5;45mNone\u001b[0m, \u001b[38;5;34m64\u001b[0m)             │        \u001b[38;5;34m49,408\u001b[0m │\n",
       "├─────────────────────────────────┼────────────────────────┼───────────────┤\n",
       "│ dropout (\u001b[38;5;33mDropout\u001b[0m)               │ (\u001b[38;5;45mNone\u001b[0m, \u001b[38;5;34m64\u001b[0m)             │             \u001b[38;5;34m0\u001b[0m │\n",
       "├─────────────────────────────────┼────────────────────────┼───────────────┤\n",
       "│ dense (\u001b[38;5;33mDense\u001b[0m)                   │ (\u001b[38;5;45mNone\u001b[0m, \u001b[38;5;34m64\u001b[0m)             │         \u001b[38;5;34m4,160\u001b[0m │\n",
       "├─────────────────────────────────┼────────────────────────┼───────────────┤\n",
       "│ dense_1 (\u001b[38;5;33mDense\u001b[0m)                 │ (\u001b[38;5;45mNone\u001b[0m, \u001b[38;5;34m1\u001b[0m)              │            \u001b[38;5;34m65\u001b[0m │\n",
       "└─────────────────────────────────┴────────────────────────┴───────────────┘\n"
      ]
     },
     "metadata": {},
     "output_type": "display_data"
    },
    {
     "data": {
      "text/html": [
       "<pre style=\"white-space:pre;overflow-x:auto;line-height:normal;font-family:Menlo,'DejaVu Sans Mono',consolas,'Courier New',monospace\"><span style=\"font-weight: bold\"> Total params: </span><span style=\"color: #00af00; text-decoration-color: #00af00\">1,333,633</span> (5.09 MB)\n",
       "</pre>\n"
      ],
      "text/plain": [
       "\u001b[1m Total params: \u001b[0m\u001b[38;5;34m1,333,633\u001b[0m (5.09 MB)\n"
      ]
     },
     "metadata": {},
     "output_type": "display_data"
    },
    {
     "data": {
      "text/html": [
       "<pre style=\"white-space:pre;overflow-x:auto;line-height:normal;font-family:Menlo,'DejaVu Sans Mono',consolas,'Courier New',monospace\"><span style=\"font-weight: bold\"> Trainable params: </span><span style=\"color: #00af00; text-decoration-color: #00af00\">1,333,633</span> (5.09 MB)\n",
       "</pre>\n"
      ],
      "text/plain": [
       "\u001b[1m Trainable params: \u001b[0m\u001b[38;5;34m1,333,633\u001b[0m (5.09 MB)\n"
      ]
     },
     "metadata": {},
     "output_type": "display_data"
    },
    {
     "data": {
      "text/html": [
       "<pre style=\"white-space:pre;overflow-x:auto;line-height:normal;font-family:Menlo,'DejaVu Sans Mono',consolas,'Courier New',monospace\"><span style=\"font-weight: bold\"> Non-trainable params: </span><span style=\"color: #00af00; text-decoration-color: #00af00\">0</span> (0.00 B)\n",
       "</pre>\n"
      ],
      "text/plain": [
       "\u001b[1m Non-trainable params: \u001b[0m\u001b[38;5;34m0\u001b[0m (0.00 B)\n"
      ]
     },
     "metadata": {},
     "output_type": "display_data"
    }
   ],
   "source": [
    "# Build model\n",
    "model = Sequential()\n",
    "model.add(Embedding(input_dim=MAX_VOCAB, output_dim=128, input_length=MAX_LEN))\n",
    "model.add(LSTM(64, return_sequences=False))\n",
    "model.add(Dropout(0.5))\n",
    "model.add(Dense(64, activation='relu'))\n",
    "model.add(Dense(1, activation='sigmoid'))\n",
    "\n",
    "model.build(input_shape=(None, MAX_LEN))\n",
    "model.summary()\n"
   ]
  },
  {
   "cell_type": "code",
   "execution_count": 11,
   "id": "ede0119c",
   "metadata": {
    "execution": {
     "iopub.execute_input": "2025-08-04T12:51:56.108781Z",
     "iopub.status.busy": "2025-08-04T12:51:56.108461Z",
     "iopub.status.idle": "2025-08-04T12:51:56.124447Z",
     "shell.execute_reply": "2025-08-04T12:51:56.123416Z"
    },
    "papermill": {
     "duration": 0.022699,
     "end_time": "2025-08-04T12:51:56.126184",
     "exception": false,
     "start_time": "2025-08-04T12:51:56.103485",
     "status": "completed"
    },
    "tags": []
   },
   "outputs": [],
   "source": [
    "model.compile(loss='binary_crossentropy', optimizer='adam', metrics=['accuracy'])"
   ]
  },
  {
   "cell_type": "code",
   "execution_count": 12,
   "id": "607b5c97",
   "metadata": {
    "execution": {
     "iopub.execute_input": "2025-08-04T12:51:56.137082Z",
     "iopub.status.busy": "2025-08-04T12:51:56.136754Z",
     "iopub.status.idle": "2025-08-04T15:26:25.112391Z",
     "shell.execute_reply": "2025-08-04T15:26:25.111397Z"
    },
    "papermill": {
     "duration": 9274.88798,
     "end_time": "2025-08-04T15:26:31.019569",
     "exception": false,
     "start_time": "2025-08-04T12:51:56.131589",
     "status": "completed"
    },
    "tags": []
   },
   "outputs": [
    {
     "name": "stdout",
     "output_type": "stream",
     "text": [
      "Epoch 1/10\n",
      "\u001b[1m18072/18072\u001b[0m \u001b[32m━━━━━━━━━━━━━━━━━━━━\u001b[0m\u001b[37m\u001b[0m \u001b[1m932s\u001b[0m 51ms/step - accuracy: 0.5685 - loss: 0.6851 - val_accuracy: 0.5720 - val_loss: 0.6827\n",
      "Epoch 2/10\n",
      "\u001b[1m18072/18072\u001b[0m \u001b[32m━━━━━━━━━━━━━━━━━━━━\u001b[0m\u001b[37m\u001b[0m \u001b[1m906s\u001b[0m 50ms/step - accuracy: 0.6370 - loss: 0.5947 - val_accuracy: 0.9361 - val_loss: 0.1702\n",
      "Epoch 3/10\n",
      "\u001b[1m18072/18072\u001b[0m \u001b[32m━━━━━━━━━━━━━━━━━━━━\u001b[0m\u001b[37m\u001b[0m \u001b[1m914s\u001b[0m 51ms/step - accuracy: 0.9393 - loss: 0.1658 - val_accuracy: 0.9402 - val_loss: 0.1665\n",
      "Epoch 4/10\n",
      "\u001b[1m18072/18072\u001b[0m \u001b[32m━━━━━━━━━━━━━━━━━━━━\u001b[0m\u001b[37m\u001b[0m \u001b[1m922s\u001b[0m 51ms/step - accuracy: 0.9462 - loss: 0.1488 - val_accuracy: 0.9409 - val_loss: 0.1664\n",
      "Epoch 5/10\n",
      "\u001b[1m18072/18072\u001b[0m \u001b[32m━━━━━━━━━━━━━━━━━━━━\u001b[0m\u001b[37m\u001b[0m \u001b[1m975s\u001b[0m 54ms/step - accuracy: 0.9498 - loss: 0.1382 - val_accuracy: 0.9394 - val_loss: 0.1769\n",
      "Epoch 6/10\n",
      "\u001b[1m18072/18072\u001b[0m \u001b[32m━━━━━━━━━━━━━━━━━━━━\u001b[0m\u001b[37m\u001b[0m \u001b[1m929s\u001b[0m 51ms/step - accuracy: 0.9534 - loss: 0.1294 - val_accuracy: 0.9399 - val_loss: 0.1682\n",
      "Epoch 7/10\n",
      "\u001b[1m18072/18072\u001b[0m \u001b[32m━━━━━━━━━━━━━━━━━━━━\u001b[0m\u001b[37m\u001b[0m \u001b[1m924s\u001b[0m 51ms/step - accuracy: 0.9562 - loss: 0.1225 - val_accuracy: 0.9395 - val_loss: 0.1728\n",
      "Epoch 8/10\n",
      "\u001b[1m18072/18072\u001b[0m \u001b[32m━━━━━━━━━━━━━━━━━━━━\u001b[0m\u001b[37m\u001b[0m \u001b[1m924s\u001b[0m 51ms/step - accuracy: 0.9580 - loss: 0.1159 - val_accuracy: 0.9400 - val_loss: 0.1710\n",
      "Epoch 9/10\n",
      "\u001b[1m18072/18072\u001b[0m \u001b[32m━━━━━━━━━━━━━━━━━━━━\u001b[0m\u001b[37m\u001b[0m \u001b[1m919s\u001b[0m 51ms/step - accuracy: 0.9602 - loss: 0.1108 - val_accuracy: 0.9381 - val_loss: 0.1731\n",
      "Epoch 10/10\n",
      "\u001b[1m18072/18072\u001b[0m \u001b[32m━━━━━━━━━━━━━━━━━━━━\u001b[0m\u001b[37m\u001b[0m \u001b[1m924s\u001b[0m 51ms/step - accuracy: 0.9615 - loss: 0.1075 - val_accuracy: 0.9381 - val_loss: 0.1748\n"
     ]
    }
   ],
   "source": [
    "# Train\n",
    "history = model.fit(X_train, y_train, epochs=10, batch_size=32, validation_split=0.2)\n",
    "\n",
    "\n"
   ]
  },
  {
   "cell_type": "code",
   "execution_count": 13,
   "id": "6b295ae5",
   "metadata": {
    "execution": {
     "iopub.execute_input": "2025-08-04T15:26:42.971168Z",
     "iopub.status.busy": "2025-08-04T15:26:42.970878Z",
     "iopub.status.idle": "2025-08-04T15:28:20.030279Z",
     "shell.execute_reply": "2025-08-04T15:28:20.029297Z"
    },
    "papermill": {
     "duration": 102.94172,
     "end_time": "2025-08-04T15:28:20.031835",
     "exception": false,
     "start_time": "2025-08-04T15:26:37.090115",
     "status": "completed"
    },
    "tags": []
   },
   "outputs": [
    {
     "name": "stdout",
     "output_type": "stream",
     "text": [
      "\u001b[1m5648/5648\u001b[0m \u001b[32m━━━━━━━━━━━━━━━━━━━━\u001b[0m\u001b[37m\u001b[0m \u001b[1m93s\u001b[0m 16ms/step\n",
      "\n",
      "Accuracy: 0.9386336723513983\n",
      "              precision    recall  f1-score   support\n",
      "\n",
      "           0       0.93      0.93      0.93     77609\n",
      "           1       0.95      0.95      0.95    103109\n",
      "\n",
      "    accuracy                           0.94    180718\n",
      "   macro avg       0.94      0.94      0.94    180718\n",
      "weighted avg       0.94      0.94      0.94    180718\n",
      "\n"
     ]
    }
   ],
   "source": [
    "# Evaluate\n",
    "y_pred = (model.predict(X_test) > 0.5).astype(\"int32\")\n",
    "print(\"\\nAccuracy:\", accuracy_score(y_test, y_pred))\n",
    "print(classification_report(y_test, y_pred))"
   ]
  },
  {
   "cell_type": "code",
   "execution_count": null,
   "id": "7c9c7d55",
   "metadata": {
    "papermill": {
     "duration": 5.743158,
     "end_time": "2025-08-04T15:28:31.744651",
     "exception": false,
     "start_time": "2025-08-04T15:28:26.001493",
     "status": "completed"
    },
    "tags": []
   },
   "outputs": [],
   "source": []
  }
 ],
 "metadata": {
  "kaggle": {
   "accelerator": "none",
   "dataSources": [
    {
     "datasetId": 2142,
     "sourceId": 3597,
     "sourceType": "datasetVersion"
    }
   ],
   "dockerImageVersionId": 31089,
   "isGpuEnabled": false,
   "isInternetEnabled": true,
   "language": "python",
   "sourceType": "notebook"
  },
  "kernelspec": {
   "display_name": "Python 3",
   "language": "python",
   "name": "python3"
  },
  "language_info": {
   "codemirror_mode": {
    "name": "ipython",
    "version": 3
   },
   "file_extension": ".py",
   "mimetype": "text/x-python",
   "name": "python",
   "nbconvert_exporter": "python",
   "pygments_lexer": "ipython3",
   "version": "3.11.13"
  },
  "papermill": {
   "default_parameters": {},
   "duration": 9472.696337,
   "end_time": "2025-08-04T15:28:40.532673",
   "environment_variables": {},
   "exception": null,
   "input_path": "__notebook__.ipynb",
   "output_path": "__notebook__.ipynb",
   "parameters": {},
   "start_time": "2025-08-04T12:50:47.836336",
   "version": "2.6.0"
  }
 },
 "nbformat": 4,
 "nbformat_minor": 5
}
